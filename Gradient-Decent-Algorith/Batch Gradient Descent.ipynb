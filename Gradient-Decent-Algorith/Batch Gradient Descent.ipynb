{
  "nbformat": 4,
  "nbformat_minor": 0,
  "metadata": {
    "colab": {
      "provenance": []
    },
    "kernelspec": {
      "name": "python3",
      "display_name": "Python 3"
    },
    "language_info": {
      "name": "python"
    }
  },
  "cells": [
    {
      "cell_type": "code",
      "execution_count": 35,
      "metadata": {
        "id": "oFBGD89KVBz3"
      },
      "outputs": [],
      "source": [
        "from sklearn.datasets import make_regression\n",
        "import matplotlib.pyplot as plt\n",
        "import numpy as np"
      ]
    },
    {
      "cell_type": "code",
      "source": [
        "X,y = make_regression(n_samples =100 , n_features =1 ,n_informative = 1,n_targets = 1 ,noise = 20 , random_state = 13)\n"
      ],
      "metadata": {
        "id": "qUKcPkIoVH4B"
      },
      "execution_count": 36,
      "outputs": []
    },
    {
      "cell_type": "code",
      "source": [
        "plt.scatter(X,y)"
      ],
      "metadata": {
        "colab": {
          "base_uri": "https://localhost:8080/",
          "height": 447
        },
        "id": "vLU7W-L4VKKY",
        "outputId": "da9fb428-3722-485e-afcb-6e8b982cbecb"
      },
      "execution_count": 37,
      "outputs": [
        {
          "output_type": "execute_result",
          "data": {
            "text/plain": [
              "<matplotlib.collections.PathCollection at 0x7a8c5c3edb20>"
            ]
          },
          "metadata": {},
          "execution_count": 37
        },
        {
          "output_type": "display_data",
          "data": {
            "text/plain": [
              "<Figure size 640x480 with 1 Axes>"
            ],
            "image/png": "[encoded data removed]"
          },
          "metadata": {}
        }
      ]
    },
    {
      "cell_type": "code",
      "source": [
        "from sklearn.model_selection import train_test_split\n",
        "X_train,X_test,Y_train,Y_test = train_test_split(X,y,test_size=0.2,random_state=2)"
      ],
      "metadata": {
        "id": "g98COUzvVLYN"
      },
      "execution_count": 38,
      "outputs": []
    },
    {
      "cell_type": "code",
      "source": [
        "X_train"
      ],
      "metadata": {
        "colab": {
          "base_uri": "https://localhost:8080/"
        },
        "id": "wwKjTngbVi2d",
        "outputId": "c0f90c1f-a047-4646-c738-c45c45a78fa7"
      },
      "execution_count": 39,
      "outputs": [
        {
          "output_type": "execute_result",
          "data": {
            "text/plain": [
              "array([[-1.18541881],\n",
              "       [ 0.39724133],\n",
              "       [-0.31726597],\n",
              "       [ 1.19070527],\n",
              "       [ 0.75376638],\n",
              "       [ 0.86121137],\n",
              "       [-1.63909341],\n",
              "       [-0.98416078],\n",
              "       [-0.37011608],\n",
              "       [ 1.89274222],\n",
              "       [-1.92415945],\n",
              "       [-0.43714566],\n",
              "       [-1.61510796],\n",
              "       [ 0.9137407 ],\n",
              "       [ 0.21745166],\n",
              "       [ 1.350306  ],\n",
              "       [-0.24332625],\n",
              "       [ 0.49087183],\n",
              "       [ 2.05369324],\n",
              "       [ 2.01522083],\n",
              "       [ 0.20780005],\n",
              "       [-0.77466003],\n",
              "       [ 0.54791831],\n",
              "       [ 0.50113729],\n",
              "       [-0.31485808],\n",
              "       [ 0.45348104],\n",
              "       [ 1.74924179],\n",
              "       [-0.33861825],\n",
              "       [-0.04450308],\n",
              "       [ 1.3501879 ],\n",
              "       [-0.42989708],\n",
              "       [ 1.84961257],\n",
              "       [ 0.3595323 ],\n",
              "       [ 0.46565797],\n",
              "       [-0.08165156],\n",
              "       [-0.00238903],\n",
              "       [ 0.56465429],\n",
              "       [ 0.92234415],\n",
              "       [-1.12050687],\n",
              "       [-0.72099967],\n",
              "       [ 0.31735092],\n",
              "       [-1.94539068],\n",
              "       [ 0.34875059],\n",
              "       [-0.33267578],\n",
              "       [ 1.39923842],\n",
              "       [ 0.51432886],\n",
              "       [ 1.47868574],\n",
              "       [-0.37591996],\n",
              "       [-0.76403397],\n",
              "       [-0.53032741],\n",
              "       [ 0.56284679],\n",
              "       [ 0.81499544],\n",
              "       [-0.02677165],\n",
              "       [-0.14521133],\n",
              "       [ 0.10126979],\n",
              "       [-0.85414295],\n",
              "       [-1.26160595],\n",
              "       [-1.08718159],\n",
              "       [-0.65105648],\n",
              "       [-0.27813452],\n",
              "       [ 0.23785784],\n",
              "       [ 0.12730328],\n",
              "       [ 0.56226171],\n",
              "       [ 1.33031692],\n",
              "       [-0.78898902],\n",
              "       [ 0.76591105],\n",
              "       [-1.04537713],\n",
              "       [-0.6209797 ],\n",
              "       [-0.98027432],\n",
              "       [-0.38445769],\n",
              "       [ 1.13833305],\n",
              "       [-2.18711527],\n",
              "       [ 0.18494595],\n",
              "       [ 1.34510171],\n",
              "       [-0.65751727],\n",
              "       [ 0.45181234],\n",
              "       [-0.92833523],\n",
              "       [ 0.71097479],\n",
              "       [ 0.45315861],\n",
              "       [-1.51284512]])"
            ]
          },
          "metadata": {},
          "execution_count": 39
        }
      ]
    },
    {
      "cell_type": "code",
      "source": [
        "Y_train"
      ],
      "metadata": {
        "colab": {
          "base_uri": "https://localhost:8080/"
        },
        "id": "8IEMn3yUVj3h",
        "outputId": "134f6187-6ac6-419c-cce9-95d36a4e5db6"
      },
      "execution_count": 40,
      "outputs": [
        {
          "output_type": "execute_result",
          "data": {
            "text/plain": [
              "array([-4.64421597e+01,  1.28532816e+01, -9.68771368e+00,  5.78213629e+01,\n",
              "        2.93379129e-01, -2.90750046e+00, -3.27136530e+01, -4.86320699e+01,\n",
              "       -1.86381423e+01,  3.48047372e+01, -7.57291461e+01, -9.42120961e+00,\n",
              "       -4.92158778e+01,  3.59187182e+01, -6.88808416e+00,  5.42818051e+01,\n",
              "       -1.41987828e+01,  4.50414413e+01,  3.71085471e+01,  3.73362043e+01,\n",
              "        2.50289888e+01,  1.73925049e+01,  1.81174790e+01,  1.50322799e+01,\n",
              "       -2.79790662e+01,  3.79848517e+01,  1.59474399e+01, -1.88255476e+01,\n",
              "        7.04149700e+00,  3.78339073e+01, -3.49067872e+01,  6.41794705e+01,\n",
              "       -5.57201352e+00,  1.98411137e+01,  5.07266140e+00,  8.27318308e+00,\n",
              "        3.10524837e+01,  2.46525603e+01, -6.07154394e+01, -2.64264302e+01,\n",
              "        2.52239775e+01, -2.86386661e+01,  2.27466324e+01,  2.22333646e+01,\n",
              "        3.27083097e+01, -5.66921620e+00,  2.40080546e+01, -4.39284313e+01,\n",
              "       -4.43062883e+01, -1.61432262e+01, -7.39169323e+00,  1.81131707e+01,\n",
              "       -1.86288622e-01, -2.85657165e+01,  2.34628620e+01, -5.57047189e+00,\n",
              "       -3.45767718e+01, -3.52373298e+01, -2.51245994e+01, -4.40722161e+00,\n",
              "        2.77559659e+01,  2.12404103e+01,  8.36850884e+00,  3.96988084e+01,\n",
              "       -4.29667324e+01,  2.43919519e+01, -5.71391242e+01, -5.22849035e+01,\n",
              "       -4.46638656e+01, -3.58452002e+01,  1.58411788e+01, -6.18736296e+01,\n",
              "        5.40025891e+00,  3.93501682e+01, -6.92299670e-02, -3.01350607e+00,\n",
              "       -2.53194769e+01,  3.25432136e+01,  3.77839324e+01, -3.96814412e+01])"
            ]
          },
          "metadata": {},
          "execution_count": 40
        }
      ]
    },
    {
      "cell_type": "code",
      "source": [
        "class GDRegressor:\n",
        "\n",
        "\n",
        "  def __init__(self,learning_rate,epochs):\n",
        "    self.m = 100\n",
        "    self.b = -120\n",
        "    self.lr = learning_rate\n",
        "    self.epochs = epochs\n",
        "\n",
        "  def fit(self,X,Y):\n",
        "    for i in range(self.epochs):\n",
        "       loss_slope_b = -2 * np.sum(Y - self.m*X.ravel() - self.b)\n",
        "       loss_slope_m = -2 * np.sum((Y -self.m*X.ravel() - self.b)*X.ravel())\n",
        "\n",
        "\n",
        "       self.b = self.b - (self.lr * loss_slope_b)\n",
        "       self.m = self.m - (self.lr * loss_slope_m)\n",
        "    print(self.m,self.b)\n",
        "\n",
        "  def predict(self,X):\n",
        "      return self.m*X + self.b\n"
      ],
      "metadata": {
        "id": "0cbXYVO9VmAd"
      },
      "execution_count": 41,
      "outputs": []
    },
    {
      "cell_type": "code",
      "source": [
        "gd = GDRegressor(0.001,10000)"
      ],
      "metadata": {
        "id": "4L8_G9MiVqFl"
      },
      "execution_count": 42,
      "outputs": []
    },
    {
      "cell_type": "code",
      "source": [
        "X_train.shape"
      ],
      "metadata": {
        "colab": {
          "base_uri": "https://localhost:8080/"
        },
        "id": "9krrasklVxPX",
        "outputId": "ba073853-7601-46b2-e11d-4210726bcb10"
      },
      "execution_count": 43,
      "outputs": [
        {
          "output_type": "execute_result",
          "data": {
            "text/plain": [
              "(80, 1)"
            ]
          },
          "metadata": {},
          "execution_count": 43
        }
      ]
    },
    {
      "cell_type": "code",
      "source": [
        "Y_train"
      ],
      "metadata": {
        "colab": {
          "base_uri": "https://localhost:8080/"
        },
        "id": "-CPvZthlXlJk",
        "outputId": "e9516394-adf8-4958-e013-98b3fc8402fd"
      },
      "execution_count": 44,
      "outputs": [
        {
          "output_type": "execute_result",
          "data": {
            "text/plain": [
              "array([-4.64421597e+01,  1.28532816e+01, -9.68771368e+00,  5.78213629e+01,\n",
              "        2.93379129e-01, -2.90750046e+00, -3.27136530e+01, -4.86320699e+01,\n",
              "       -1.86381423e+01,  3.48047372e+01, -7.57291461e+01, -9.42120961e+00,\n",
              "       -4.92158778e+01,  3.59187182e+01, -6.88808416e+00,  5.42818051e+01,\n",
              "       -1.41987828e+01,  4.50414413e+01,  3.71085471e+01,  3.73362043e+01,\n",
              "        2.50289888e+01,  1.73925049e+01,  1.81174790e+01,  1.50322799e+01,\n",
              "       -2.79790662e+01,  3.79848517e+01,  1.59474399e+01, -1.88255476e+01,\n",
              "        7.04149700e+00,  3.78339073e+01, -3.49067872e+01,  6.41794705e+01,\n",
              "       -5.57201352e+00,  1.98411137e+01,  5.07266140e+00,  8.27318308e+00,\n",
              "        3.10524837e+01,  2.46525603e+01, -6.07154394e+01, -2.64264302e+01,\n",
              "        2.52239775e+01, -2.86386661e+01,  2.27466324e+01,  2.22333646e+01,\n",
              "        3.27083097e+01, -5.66921620e+00,  2.40080546e+01, -4.39284313e+01,\n",
              "       -4.43062883e+01, -1.61432262e+01, -7.39169323e+00,  1.81131707e+01,\n",
              "       -1.86288622e-01, -2.85657165e+01,  2.34628620e+01, -5.57047189e+00,\n",
              "       -3.45767718e+01, -3.52373298e+01, -2.51245994e+01, -4.40722161e+00,\n",
              "        2.77559659e+01,  2.12404103e+01,  8.36850884e+00,  3.96988084e+01,\n",
              "       -4.29667324e+01,  2.43919519e+01, -5.71391242e+01, -5.22849035e+01,\n",
              "       -4.46638656e+01, -3.58452002e+01,  1.58411788e+01, -6.18736296e+01,\n",
              "        5.40025891e+00,  3.93501682e+01, -6.92299670e-02, -3.01350607e+00,\n",
              "       -2.53194769e+01,  3.25432136e+01,  3.77839324e+01, -3.96814412e+01])"
            ]
          },
          "metadata": {},
          "execution_count": 44
        }
      ]
    },
    {
      "cell_type": "code",
      "source": [
        "gd.fit(X_train,Y_train)"
      ],
      "metadata": {
        "colab": {
          "base_uri": "https://localhost:8080/"
        },
        "id": "rHV21yUDVy_a",
        "outputId": "c8ea8404-0463-4a9a-f479-dba9d8ce4913"
      },
      "execution_count": 45,
      "outputs": [
        {
          "output_type": "stream",
          "name": "stdout",
          "text": [
            "28.12597331513562 -2.2710144261783833\n"
          ]
        }
      ]
    },
    {
      "cell_type": "code",
      "source": [
        "y_pred = gd.predict(X_test)\n",
        "from sklearn.metrics import r2_score\n",
        "r2_score(Y_test,y_pred)"
      ],
      "metadata": {
        "colab": {
          "base_uri": "https://localhost:8080/"
        },
        "id": "SO-kopu5V3W2",
        "outputId": "04574dc5-c338-400a-eef7-1e75f065a994"
      },
      "execution_count": 46,
      "outputs": [
        {
          "output_type": "execute_result",
          "data": {
            "text/plain": [
              "0.6345158782661012"
            ]
          },
          "metadata": {},
          "execution_count": 46
        }
      ]
    },
    {
      "cell_type": "code",
      "source": [],
      "metadata": {
        "id": "lWvgTbOTWVLH"
      },
      "execution_count": null,
      "outputs": []
    }
  ]
}
